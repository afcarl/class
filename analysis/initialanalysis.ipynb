{
 "cells": [
  {
   "cell_type": "markdown",
   "metadata": {},
   "source": [
    "# Initial character analysis\n",
    "\n",
    "Just a very preliminary pass through the data, looking mainly for trends across the timeline. Few of the trends we initially notice are statistically significant.\n",
    "\n",
    "That's ok -- null results can be interesting."
   ]
  },
  {
   "cell_type": "markdown",
   "metadata": {},
   "source": [
    "To start with we're going to go line by line through Patrick's character file, keeping only the lines that have docids attached. In each case we'll translate the docid into a date.\n"
   ]
  },
  {
   "cell_type": "code",
   "execution_count": 33,
   "metadata": {
    "collapsed": true
   },
   "outputs": [],
   "source": [
    "# first, some common imports\n",
    "\n",
    "import pandas as pd\n",
    "import numpy as np\n",
    "from matplotlib import pyplot as plt\n",
    "from collections import Counter\n",
    "from scipy.stats import pearsonr"
   ]
  },
  {
   "cell_type": "code",
   "execution_count": 17,
   "metadata": {
    "collapsed": false
   },
   "outputs": [
    {
     "data": {
      "text/html": [
       "<div>\n",
       "<table border=\"1\" class=\"dataframe\">\n",
       "  <thead>\n",
       "    <tr style=\"text-align: right;\">\n",
       "      <th></th>\n",
       "      <th>docid</th>\n",
       "      <th>charid</th>\n",
       "      <th>charactername</th>\n",
       "      <th>gender</th>\n",
       "      <th>age</th>\n",
       "      <th>sequence</th>\n",
       "      <th>class</th>\n",
       "      <th>rankinbook</th>\n",
       "      <th>role</th>\n",
       "      <th>livelihood</th>\n",
       "      <th>comments</th>\n",
       "      <th>Unnamed: 11</th>\n",
       "    </tr>\n",
       "  </thead>\n",
       "  <tbody>\n",
       "    <tr>\n",
       "      <th>0</th>\n",
       "      <td>mdp.39015013962207</td>\n",
       "      <td>Mrs.Dalloway</td>\n",
       "      <td>Clarissa Dalloway</td>\n",
       "      <td>f</td>\n",
       "      <td>52</td>\n",
       "      <td>NaN</td>\n",
       "      <td>middle class|rich</td>\n",
       "      <td>0.6</td>\n",
       "      <td>protagonist</td>\n",
       "      <td>marriage</td>\n",
       "      <td>NaN</td>\n",
       "      <td>NaN</td>\n",
       "    </tr>\n",
       "    <tr>\n",
       "      <th>1</th>\n",
       "      <td>mdp.39015013962207</td>\n",
       "      <td>Mr.Dalloway|Richard</td>\n",
       "      <td>Richard Dalloway</td>\n",
       "      <td>m</td>\n",
       "      <td>Middle-aged</td>\n",
       "      <td>NaN</td>\n",
       "      <td>rich|high official</td>\n",
       "      <td>0.6</td>\n",
       "      <td>love interest</td>\n",
       "      <td>NaN</td>\n",
       "      <td>NaN</td>\n",
       "      <td>NaN</td>\n",
       "    </tr>\n",
       "    <tr>\n",
       "      <th>2</th>\n",
       "      <td>mdp.39015013962207</td>\n",
       "      <td>Mr.Smith|Septimus</td>\n",
       "      <td>SeptimusSmith</td>\n",
       "      <td>m</td>\n",
       "      <td>adult</td>\n",
       "      <td>NaN</td>\n",
       "      <td>military|cultured</td>\n",
       "      <td>0.4</td>\n",
       "      <td>protagonist</td>\n",
       "      <td>NaN</td>\n",
       "      <td>disabled</td>\n",
       "      <td>NaN</td>\n",
       "    </tr>\n",
       "    <tr>\n",
       "      <th>3</th>\n",
       "      <td>mdp.39015013962207</td>\n",
       "      <td>William</td>\n",
       "      <td>Sir William Bradshaw</td>\n",
       "      <td>m</td>\n",
       "      <td>Middle-aged</td>\n",
       "      <td>NaN</td>\n",
       "      <td>rich|peer|professional</td>\n",
       "      <td>0.7</td>\n",
       "      <td>NaN</td>\n",
       "      <td>NaN</td>\n",
       "      <td>Self-made</td>\n",
       "      <td>NaN</td>\n",
       "    </tr>\n",
       "    <tr>\n",
       "      <th>4</th>\n",
       "      <td>mdp.39015013962207</td>\n",
       "      <td>Rezia|Mrs.Smith</td>\n",
       "      <td>Lucrezia Smith</td>\n",
       "      <td>f</td>\n",
       "      <td>adult</td>\n",
       "      <td>NaN</td>\n",
       "      <td>middle class</td>\n",
       "      <td>0.4</td>\n",
       "      <td>love interest</td>\n",
       "      <td>marriage</td>\n",
       "      <td>NaN</td>\n",
       "      <td>NaN</td>\n",
       "    </tr>\n",
       "  </tbody>\n",
       "</table>\n",
       "</div>"
      ],
      "text/plain": [
       "                docid               charid         charactername gender  \\\n",
       "0  mdp.39015013962207         Mrs.Dalloway     Clarissa Dalloway      f   \n",
       "1  mdp.39015013962207  Mr.Dalloway|Richard      Richard Dalloway      m   \n",
       "2  mdp.39015013962207    Mr.Smith|Septimus         SeptimusSmith      m   \n",
       "3  mdp.39015013962207              William  Sir William Bradshaw      m   \n",
       "4  mdp.39015013962207      Rezia|Mrs.Smith        Lucrezia Smith      f   \n",
       "\n",
       "           age  sequence                   class  rankinbook           role  \\\n",
       "0           52       NaN       middle class|rich         0.6    protagonist   \n",
       "1  Middle-aged       NaN      rich|high official         0.6  love interest   \n",
       "2        adult       NaN       military|cultured         0.4    protagonist   \n",
       "3  Middle-aged       NaN  rich|peer|professional         0.7            NaN   \n",
       "4        adult       NaN            middle class         0.4  love interest   \n",
       "\n",
       "  livelihood   comments Unnamed: 11  \n",
       "0   marriage        NaN         NaN  \n",
       "1        NaN        NaN         NaN  \n",
       "2        NaN   disabled         NaN  \n",
       "3        NaN  Self-made         NaN  \n",
       "4   marriage        NaN         NaN  "
      ]
     },
     "execution_count": 17,
     "metadata": {},
     "output_type": "execute_result"
    }
   ],
   "source": [
    "# actually read the data\n",
    "\n",
    "ficmeta = pd.read_csv('../meta/filteredfictionmeta.tsv', sep = '\\t', index_col = 'docid')\n",
    "ficmeta = ficmeta[~ficmeta.index.duplicated(keep='first')]\n",
    "charmeta = pd.read_csv('../meta/patchars.csv')\n",
    "charmeta.head()"
   ]
  },
  {
   "cell_type": "code",
   "execution_count": 8,
   "metadata": {
    "collapsed": false
   },
   "outputs": [
    {
     "name": "stdout",
     "output_type": "stream",
     "text": [
      "(599, 12)\n",
      "We have 599 rows.\n"
     ]
    }
   ],
   "source": [
    "print(charmeta.shape)\n",
    "print('We have ' + str(charmeta.shape[0]) + ' rows.')"
   ]
  },
  {
   "cell_type": "markdown",
   "metadata": {},
   "source": [
    "Let's see how many rows we lose when we drop those without docids."
   ]
  },
  {
   "cell_type": "code",
   "execution_count": 14,
   "metadata": {
    "collapsed": false
   },
   "outputs": [
    {
     "name": "stdout",
     "output_type": "stream",
     "text": [
      "Now we have 550 rows.\n"
     ]
    }
   ],
   "source": [
    "charmeta = charmeta.dropna(subset = ['docid'])\n",
    "print('Now we have ' + str(charmeta.shape[0]) + ' rows.')"
   ]
  },
  {
   "cell_type": "code",
   "execution_count": null,
   "metadata": {
    "collapsed": true
   },
   "outputs": [],
   "source": []
  },
  {
   "cell_type": "code",
   "execution_count": 18,
   "metadata": {
    "collapsed": true
   },
   "outputs": [],
   "source": [
    "def getdate(adocid):\n",
    "    global ficmeta\n",
    "    if adocid not in ficmeta.index:\n",
    "        return 0\n",
    "    else:\n",
    "        return int(ficmeta.loc[adocid, 'inferreddate'])"
   ]
  },
  {
   "cell_type": "code",
   "execution_count": 19,
   "metadata": {
    "collapsed": false
   },
   "outputs": [],
   "source": [
    "newcol = charmeta.docid.map(getdate)\n",
    "charmeta = charmeta.assign(date = newcol)"
   ]
  },
  {
   "cell_type": "code",
   "execution_count": 20,
   "metadata": {
    "collapsed": false
   },
   "outputs": [
    {
     "data": {
      "text/html": [
       "<div>\n",
       "<table border=\"1\" class=\"dataframe\">\n",
       "  <thead>\n",
       "    <tr style=\"text-align: right;\">\n",
       "      <th></th>\n",
       "      <th>docid</th>\n",
       "      <th>charid</th>\n",
       "      <th>charactername</th>\n",
       "      <th>gender</th>\n",
       "      <th>age</th>\n",
       "      <th>sequence</th>\n",
       "      <th>class</th>\n",
       "      <th>rankinbook</th>\n",
       "      <th>role</th>\n",
       "      <th>livelihood</th>\n",
       "      <th>comments</th>\n",
       "      <th>Unnamed: 11</th>\n",
       "      <th>date</th>\n",
       "    </tr>\n",
       "  </thead>\n",
       "  <tbody>\n",
       "    <tr>\n",
       "      <th>0</th>\n",
       "      <td>mdp.39015013962207</td>\n",
       "      <td>Mrs.Dalloway</td>\n",
       "      <td>Clarissa Dalloway</td>\n",
       "      <td>f</td>\n",
       "      <td>52</td>\n",
       "      <td>NaN</td>\n",
       "      <td>middle class|rich</td>\n",
       "      <td>0.6</td>\n",
       "      <td>protagonist</td>\n",
       "      <td>marriage</td>\n",
       "      <td>NaN</td>\n",
       "      <td>NaN</td>\n",
       "      <td>1925</td>\n",
       "    </tr>\n",
       "    <tr>\n",
       "      <th>1</th>\n",
       "      <td>mdp.39015013962207</td>\n",
       "      <td>Mr.Dalloway|Richard</td>\n",
       "      <td>Richard Dalloway</td>\n",
       "      <td>m</td>\n",
       "      <td>Middle-aged</td>\n",
       "      <td>NaN</td>\n",
       "      <td>rich|high official</td>\n",
       "      <td>0.6</td>\n",
       "      <td>love interest</td>\n",
       "      <td>NaN</td>\n",
       "      <td>NaN</td>\n",
       "      <td>NaN</td>\n",
       "      <td>1925</td>\n",
       "    </tr>\n",
       "    <tr>\n",
       "      <th>2</th>\n",
       "      <td>mdp.39015013962207</td>\n",
       "      <td>Mr.Smith|Septimus</td>\n",
       "      <td>SeptimusSmith</td>\n",
       "      <td>m</td>\n",
       "      <td>adult</td>\n",
       "      <td>NaN</td>\n",
       "      <td>military|cultured</td>\n",
       "      <td>0.4</td>\n",
       "      <td>protagonist</td>\n",
       "      <td>NaN</td>\n",
       "      <td>disabled</td>\n",
       "      <td>NaN</td>\n",
       "      <td>1925</td>\n",
       "    </tr>\n",
       "    <tr>\n",
       "      <th>3</th>\n",
       "      <td>mdp.39015013962207</td>\n",
       "      <td>William</td>\n",
       "      <td>Sir William Bradshaw</td>\n",
       "      <td>m</td>\n",
       "      <td>Middle-aged</td>\n",
       "      <td>NaN</td>\n",
       "      <td>rich|peer|professional</td>\n",
       "      <td>0.7</td>\n",
       "      <td>NaN</td>\n",
       "      <td>NaN</td>\n",
       "      <td>Self-made</td>\n",
       "      <td>NaN</td>\n",
       "      <td>1925</td>\n",
       "    </tr>\n",
       "    <tr>\n",
       "      <th>4</th>\n",
       "      <td>mdp.39015013962207</td>\n",
       "      <td>Rezia|Mrs.Smith</td>\n",
       "      <td>Lucrezia Smith</td>\n",
       "      <td>f</td>\n",
       "      <td>adult</td>\n",
       "      <td>NaN</td>\n",
       "      <td>middle class</td>\n",
       "      <td>0.4</td>\n",
       "      <td>love interest</td>\n",
       "      <td>marriage</td>\n",
       "      <td>NaN</td>\n",
       "      <td>NaN</td>\n",
       "      <td>1925</td>\n",
       "    </tr>\n",
       "  </tbody>\n",
       "</table>\n",
       "</div>"
      ],
      "text/plain": [
       "                docid               charid         charactername gender  \\\n",
       "0  mdp.39015013962207         Mrs.Dalloway     Clarissa Dalloway      f   \n",
       "1  mdp.39015013962207  Mr.Dalloway|Richard      Richard Dalloway      m   \n",
       "2  mdp.39015013962207    Mr.Smith|Septimus         SeptimusSmith      m   \n",
       "3  mdp.39015013962207              William  Sir William Bradshaw      m   \n",
       "4  mdp.39015013962207      Rezia|Mrs.Smith        Lucrezia Smith      f   \n",
       "\n",
       "           age  sequence                   class  rankinbook           role  \\\n",
       "0           52       NaN       middle class|rich         0.6    protagonist   \n",
       "1  Middle-aged       NaN      rich|high official         0.6  love interest   \n",
       "2        adult       NaN       military|cultured         0.4    protagonist   \n",
       "3  Middle-aged       NaN  rich|peer|professional         0.7            NaN   \n",
       "4        adult       NaN            middle class         0.4  love interest   \n",
       "\n",
       "  livelihood   comments Unnamed: 11  date  \n",
       "0   marriage        NaN         NaN  1925  \n",
       "1        NaN        NaN         NaN  1925  \n",
       "2        NaN   disabled         NaN  1925  \n",
       "3        NaN  Self-made         NaN  1925  \n",
       "4   marriage        NaN         NaN  1925  "
      ]
     },
     "execution_count": 20,
     "metadata": {},
     "output_type": "execute_result"
    }
   ],
   "source": [
    "charmeta.head()"
   ]
  },
  {
   "cell_type": "markdown",
   "metadata": {},
   "source": [
    "## Initial guess about polarization\n",
    "\n",
    "How widely are \"rankinbooks\" scattered? One way to measure is to take the standard deviation for each volume. We'll plot the standard deviations."
   ]
  },
  {
   "cell_type": "code",
   "execution_count": 66,
   "metadata": {
    "collapsed": false
   },
   "outputs": [
    {
     "data": {
      "image/png": "[encoded data removed]",
      "text/plain": [
       "<matplotlib.figure.Figure at 0x118d28390>"
      ]
     },
     "metadata": {},
     "output_type": "display_data"
    },
    {
     "name": "stdout",
     "output_type": "stream",
     "text": [
      "Pearson's R (0.23444905290923715, 0.2815817712282902)\n"
     ]
    }
   ],
   "source": [
    "x = []\n",
    "y = []\n",
    "\n",
    "for docid, group in charmeta.groupby('docid'):\n",
    "    thisdate = np.mean(group.date)\n",
    "    if thisdate < 1700:\n",
    "        continue\n",
    "    deviation = np.std(group.rankinbook)\n",
    "    x.append(thisdate)\n",
    "    y.append(deviation)\n",
    "\n",
    "plt.scatter(x, y)\n",
    "z = np.polyfit(x, y, 1)\n",
    "p = np.poly1d(z)\n",
    "plt.plot(x,p(x),\"r--\")\n",
    "plt.show()\n",
    "print(\"Pearson's R\", pearsonr(x, y))   "
   ]
  },
  {
   "cell_type": "markdown",
   "metadata": {},
   "source": [
    "Maybe a slight trend to have a wider spread later in the timeline, but it wasn't a statistically significant pattern.\n",
    "\n",
    "When I print \"Pearson's R\" you're getting two numbers. The first is *r* itself, the correlation coefficient, and the second is the p-value, which should be below 0.05 for it to be a statistically significant trend. 0.28 isn't significant.\n",
    "\n",
    "## Let's get a list of classes and of ages\n",
    "\n",
    "Just to see what's actually in the dataset.\n"
   ]
  },
  {
   "cell_type": "code",
   "execution_count": 25,
   "metadata": {
    "collapsed": false
   },
   "outputs": [
    {
     "name": "stdout",
     "output_type": "stream",
     "text": [
      "performer 4\n",
      "artist 4\n",
      "banker 3\n",
      "military 57\n",
      "high officla 1\n",
      "professional 70\n",
      "domestic servant 1\n",
      "peer 71\n",
      "merchant 1\n",
      "criminal 9\n",
      "manager 1\n",
      "farmer 20\n",
      "landed gentry 26\n",
      "classless 5\n",
      "rich 111\n",
      "high official 54\n",
      "poor 41\n",
      "artisan 2\n",
      "landlord 2\n",
      "clergy 15\n",
      "wealthy 1\n",
      "homeless 17\n",
      "orphan 1\n",
      "middle class 176\n",
      "cultured 45\n",
      "upper class 11\n",
      "domestic help  18\n",
      "proprietor 18\n",
      "cultured  1\n",
      "domestic help 8\n",
      "disabled 8\n",
      "slave 7\n",
      "sex worker 6\n",
      "working class 38\n",
      "supernatural being 19\n",
      "student 30\n"
     ]
    }
   ],
   "source": [
    "classlist = Counter()\n",
    "\n",
    "for c in charmeta['class']:\n",
    "    classes = c.split('|')\n",
    "    for aclass in classes:\n",
    "        classlist[aclass] += 1\n",
    "\n",
    "for name, count in classlist.items():\n",
    "    print(name, count)\n",
    "        \n",
    "    "
   ]
  },
  {
   "cell_type": "code",
   "execution_count": 43,
   "metadata": {
    "collapsed": false
   },
   "outputs": [
    {
     "name": "stdout",
     "output_type": "stream",
     "text": [
      "nan 26\n",
      "young adult 58\n",
      "elderly|immoral 1\n",
      "elderly 40\n",
      "immortal 14\n",
      "52 1\n",
      "Middle-aged 227\n",
      "elderly|immortal 1\n",
      "adult 199\n",
      "child 32\n"
     ]
    }
   ],
   "source": [
    "# list of ages\n",
    "\n",
    "agelist = Counter()\n",
    "\n",
    "for a in charmeta['age']:\n",
    "    agelist[a] += 1\n",
    "\n",
    "for name, count in agelist.items():\n",
    "    print(name, count)\n",
    "        "
   ]
  },
  {
   "cell_type": "markdown",
   "metadata": {},
   "source": [
    "## Let's check some basic hypotheses. \n",
    "\n",
    "We would certainly expect landed gentry to decline, for instance.\n",
    "\n",
    "In each of the cells below, I measure the frequency of a given tag (or set of tags) relative to the total number of tags in a volume."
   ]
  },
  {
   "cell_type": "code",
   "execution_count": 76,
   "metadata": {
    "collapsed": false
   },
   "outputs": [
    {
     "data": {
      "image/png": "[encoded data removed]",
      "text/plain": [
       "<matplotlib.figure.Figure at 0x1043da128>"
      ]
     },
     "metadata": {},
     "output_type": "display_data"
    },
    {
     "name": "stdout",
     "output_type": "stream",
     "text": [
      "(-0.52922373607039774, 0.0094114368056855517)\n"
     ]
    }
   ],
   "source": [
    "# To start with, the landed gentry.\n",
    "\n",
    "x = []\n",
    "y = []\n",
    "\n",
    "for docid, group in charmeta.groupby('docid'):\n",
    "    thisdate = np.mean(group.date)\n",
    "    if thisdate < 1700:\n",
    "        continue\n",
    "    \n",
    "    totaltags = 0\n",
    "    uppertags = 0\n",
    "    \n",
    "    for c in group['class']:\n",
    "        classes = c.split('|')\n",
    "        for aclass in classes:\n",
    "            totaltags += 1\n",
    "            if aclass == 'landed gentry':\n",
    "                uppertags += 1\n",
    "    \n",
    "    x.append(thisdate)\n",
    "    y.append(uppertags/totaltags)\n",
    "\n",
    "plt.scatter(x, y)\n",
    "z = np.polyfit(x, y, 1)\n",
    "p = np.poly1d(z)\n",
    "plt.plot(x,p(x),\"r--\")\n",
    "plt.title('landed gentry')\n",
    "plt.show()\n",
    "print(pearsonr(x, y)) "
   ]
  },
  {
   "cell_type": "markdown",
   "metadata": {},
   "source": [
    "Well, yes that's a statistically significant trend, but not a surprising one.\n",
    "\n",
    "What about the working class?"
   ]
  },
  {
   "cell_type": "code",
   "execution_count": 77,
   "metadata": {
    "collapsed": false
   },
   "outputs": [
    {
     "data": {
      "image/png": "[encoded data removed]",
      "text/plain": [
       "<matplotlib.figure.Figure at 0x1140d4a58>"
      ]
     },
     "metadata": {},
     "output_type": "display_data"
    },
    {
     "name": "stdout",
     "output_type": "stream",
     "text": [
      "(-0.1410562528135072, 0.52088662341051872)\n"
     ]
    }
   ],
   "source": [
    "x = []\n",
    "y = []\n",
    "\n",
    "for docid, group in charmeta.groupby('docid'):\n",
    "    thisdate = np.mean(group.date)\n",
    "    if thisdate < 1700:\n",
    "        continue\n",
    "    \n",
    "    totaltags = 0\n",
    "    workingtags = 0\n",
    "    \n",
    "    for c in group['class']:\n",
    "        classes = c.split('|')\n",
    "        for aclass in classes:\n",
    "            totaltags += 1\n",
    "            if aclass == 'working class':\n",
    "                workingtags += 1\n",
    "    \n",
    "    x.append(thisdate)\n",
    "    y.append(workingtags/totaltags)\n",
    "\n",
    "plt.scatter(x, y)\n",
    "z = np.polyfit(x, y, 1)\n",
    "p = np.poly1d(z)\n",
    "plt.plot(x,p(x),\"r--\")\n",
    "plt.title('working class')\n",
    "plt.show()\n",
    "print(pearsonr(x, y)) "
   ]
  },
  {
   "cell_type": "markdown",
   "metadata": {},
   "source": [
    "No pattern evident yet.\n",
    "\n",
    "What about the middle class?"
   ]
  },
  {
   "cell_type": "code",
   "execution_count": 78,
   "metadata": {
    "collapsed": false
   },
   "outputs": [
    {
     "data": {
      "image/png": "[encoded data removed]",
      "text/plain": [
       "<matplotlib.figure.Figure at 0x119334ac8>"
      ]
     },
     "metadata": {},
     "output_type": "display_data"
    },
    {
     "name": "stdout",
     "output_type": "stream",
     "text": [
      "(0.22909278747279377, 0.29303531188494719)\n"
     ]
    }
   ],
   "source": [
    "x = []\n",
    "y = []\n",
    "\n",
    "for docid, group in charmeta.groupby('docid'):\n",
    "    thisdate = np.mean(group.date)\n",
    "    if thisdate < 1700:\n",
    "        continue\n",
    "    \n",
    "    totaltags = 0\n",
    "    middletags = 0\n",
    "    \n",
    "    for c in group['class']:\n",
    "        classes = c.split('|')\n",
    "        for aclass in classes:\n",
    "            totaltags += 1\n",
    "            if aclass == 'middle class':\n",
    "                middletags += 1\n",
    "    \n",
    "    x.append(thisdate)\n",
    "    y.append(middletags/totaltags)\n",
    "\n",
    "plt.scatter(x, y)\n",
    "z = np.polyfit(x, y, 1)\n",
    "p = np.poly1d(z)\n",
    "plt.plot(x,p(x),\"r--\")\n",
    "plt.title('middle class')\n",
    "plt.show()\n",
    "print(pearsonr(x, y)) "
   ]
  },
  {
   "cell_type": "markdown",
   "metadata": {},
   "source": [
    "No statistically significant linear pattern, though there might be a peak 1900-1950; need more evidence.\n",
    "\n",
    "What if we look at broadly defined upper and lower classes?\n",
    "\n",
    "## Upper classes collectively"
   ]
  },
  {
   "cell_type": "code",
   "execution_count": 79,
   "metadata": {
    "collapsed": false
   },
   "outputs": [
    {
     "data": {
      "image/png": "[encoded data removed]",
      "text/plain": [
       "<matplotlib.figure.Figure at 0x119628e80>"
      ]
     },
     "metadata": {},
     "output_type": "display_data"
    },
    {
     "name": "stdout",
     "output_type": "stream",
     "text": [
      "(-0.33748532843911139, 0.1152852275560477)\n"
     ]
    }
   ],
   "source": [
    "upper = {'rich', 'landed gentry', 'upper class', 'peer', 'wealthy', 'high official'}\n",
    "lower = {'poor', 'working class', 'domestic help', 'slave', 'sex worker', 'criminal', 'homeless'}\n",
    "\n",
    "x = []\n",
    "y = []\n",
    "\n",
    "for docid, group in charmeta.groupby('docid'):\n",
    "    thisdate = np.mean(group.date)\n",
    "    if thisdate < 1700:\n",
    "        continue\n",
    "    \n",
    "    totaltags = 0\n",
    "    uppertags = 0\n",
    "    \n",
    "    for c in group['class']:\n",
    "        classes = c.split('|')\n",
    "        doneyet = False\n",
    "        for aclass in classes:\n",
    "            totaltags += 1\n",
    "            if aclass in upper and not doneyet:\n",
    "                uppertags += 1\n",
    "                doneyet = True\n",
    "    \n",
    "    x.append(thisdate)\n",
    "    y.append(uppertags/totaltags)\n",
    "\n",
    "plt.scatter(x, y)\n",
    "z = np.polyfit(x, y, 1)\n",
    "p = np.poly1d(z)\n",
    "plt.plot(x,p(x),\"r--\")\n",
    "plt.title('upper classes collectively')\n",
    "plt.show()\n",
    "print(pearsonr(x, y)) "
   ]
  },
  {
   "cell_type": "markdown",
   "metadata": {},
   "source": [
    "Maybe almost a trend? But no dice. Maybe with more evidence from the late 18c this would become plain.\n",
    "\n",
    "## Lower classes collectively"
   ]
  },
  {
   "cell_type": "code",
   "execution_count": 80,
   "metadata": {
    "collapsed": false
   },
   "outputs": [
    {
     "data": {
      "image/png": "[encoded data removed]",
      "text/plain": [
       "<matplotlib.figure.Figure at 0x1140c5ba8>"
      ]
     },
     "metadata": {},
     "output_type": "display_data"
    },
    {
     "name": "stdout",
     "output_type": "stream",
     "text": [
      "(-0.074960357794863403, 0.73391067130376109)\n"
     ]
    }
   ],
   "source": [
    "x = []\n",
    "y = []\n",
    "\n",
    "for docid, group in charmeta.groupby('docid'):\n",
    "    thisdate = np.mean(group.date)\n",
    "    if thisdate < 1700:\n",
    "        continue\n",
    "    \n",
    "    totaltags = 0\n",
    "    lowertags = 0\n",
    "    \n",
    "    for c in group['class']:\n",
    "        classes = c.split('|')\n",
    "        doneyet = False\n",
    "        for aclass in classes:\n",
    "            totaltags += 1\n",
    "            if aclass in lower and not doneyet:\n",
    "                lowertags += 1\n",
    "                doneyet = True\n",
    "    \n",
    "    x.append(thisdate)\n",
    "    y.append(lowertags/totaltags)\n",
    "\n",
    "plt.scatter(x, y)\n",
    "z = np.polyfit(x, y, 1)\n",
    "p = np.poly1d(z)\n",
    "plt.plot(x,p(x),\"r--\")\n",
    "plt.title('lower classes collectively')\n",
    "plt.show()\n",
    "print(pearsonr(x, y)) "
   ]
  },
  {
   "cell_type": "markdown",
   "metadata": {},
   "source": [
    "pretty definitely no significance to that\n",
    "\n",
    "## ages\n",
    "\n",
    "What about the average age of characters, if we make it just sort of an arithmetic mean between child = 1, young adult = 2, adult = 3, middle-aged = 4, elderly = 5?"
   ]
  },
  {
   "cell_type": "code",
   "execution_count": 82,
   "metadata": {
    "collapsed": false
   },
   "outputs": [
    {
     "data": {
      "image/png": "[encoded data removed]",
      "text/plain": [
       "<matplotlib.figure.Figure at 0x11944bf60>"
      ]
     },
     "metadata": {},
     "output_type": "display_data"
    },
    {
     "name": "stdout",
     "output_type": "stream",
     "text": [
      "(-0.14057544617959516, 0.52232283693959203)\n"
     ]
    }
   ],
   "source": [
    "x = []\n",
    "y = []\n",
    "\n",
    "allages = []\n",
    "allclasses = []\n",
    "\n",
    "for docid, group in charmeta.groupby('docid'):\n",
    "    thisdate = np.mean(group.date)\n",
    "    if thisdate < 1700:\n",
    "        continue\n",
    "    \n",
    "    ages = []\n",
    "    theseclasses = []\n",
    "    if len(group['age']) != len(group['class']):\n",
    "        print(len(group['age']), len(group['class']))\n",
    "        \n",
    "    for a in group['age']:\n",
    "        if a == 'child':\n",
    "            ages.append(1)\n",
    "        elif a == 'young adult':\n",
    "            ages.append(2)\n",
    "        elif a == 'adult':\n",
    "            ages.append(3)\n",
    "        elif a == 'Middle-aged':\n",
    "            ages.append(4)\n",
    "        elif a == 'elderly':\n",
    "            ages.append(5)\n",
    "        else:\n",
    "            ages.append(3)\n",
    "    \n",
    "    for c in group['class']:\n",
    "        classes = c.split('|')\n",
    "        netclass = 0\n",
    "        for aclass in classes:\n",
    "            if aclass in upper:\n",
    "                netclass += 1\n",
    "            elif aclass in lower:\n",
    "                netclass -=1\n",
    "            \n",
    "        theseclasses.append(netclass)   \n",
    "\n",
    "    x.append(thisdate)\n",
    "    y.append(np.mean(ages))\n",
    "    allages.extend(ages)\n",
    "    allclasses.extend(theseclasses)\n",
    "\n",
    "plt.scatter(x, y)\n",
    "z = np.polyfit(x, y, 1)\n",
    "p = np.poly1d(z)\n",
    "plt.plot(x,p(x),\"r--\")\n",
    "plt.title('age')\n",
    "plt.show()\n",
    "print(pearsonr(x, y)) "
   ]
  },
  {
   "cell_type": "markdown",
   "metadata": {},
   "source": [
    "## What about correlation between age and class?\n",
    "\n",
    "Like, character by character, are old people more likely to be high status?\n",
    "\n",
    "The answer is pretty clearly no."
   ]
  },
  {
   "cell_type": "code",
   "execution_count": 63,
   "metadata": {
    "collapsed": false
   },
   "outputs": [
    {
     "data": {
      "text/plain": [
       "(0.035514153587271474, 0.41765720788971239)"
      ]
     },
     "execution_count": 63,
     "metadata": {},
     "output_type": "execute_result"
    }
   ],
   "source": [
    "pearsonr(allages, allclasses)"
   ]
  },
  {
   "cell_type": "markdown",
   "metadata": {},
   "source": [
    "## Conclusions so far\n",
    "\n",
    "Not a lot of dramatic patterns!! Actually, this could be interesting, in the manner of a dog that didn't bark during the robbery. It's interesting that the class balance and degree of polarization seem to be pretty constant, or at least not changing in a linear fashion across time.\n",
    "\n",
    "But we'll need more data to be certain even about that. I need to pull my weight in the data gathering.\n",
    "\n",
    "I'm also still planning to do more with the language *describing* characters."
   ]
  },
  {
   "cell_type": "code",
   "execution_count": null,
   "metadata": {
    "collapsed": true
   },
   "outputs": [],
   "source": []
  }
 ],
 "metadata": {
  "anaconda-cloud": {},
  "kernelspec": {
   "display_name": "Python [conda root]",
   "language": "python",
   "name": "conda-root-py"
  },
  "language_info": {
   "codemirror_mode": {
    "name": "ipython",
    "version": 3
   },
   "file_extension": ".py",
   "mimetype": "text/x-python",
   "name": "python",
   "nbconvert_exporter": "python",
   "pygments_lexer": "ipython3",
   "version": "3.5.2"
  }
 },
 "nbformat": 4,
 "nbformat_minor": 1
}
