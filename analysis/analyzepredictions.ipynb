{
 "cells": [
  {
   "cell_type": "code",
   "execution_count": 28,
   "metadata": {},
   "outputs": [],
   "source": [
    "# first, some common imports\n",
    "\n",
    "import pandas as pd\n",
    "import numpy as np\n",
    "from matplotlib import pyplot as plt\n",
    "from collections import Counter\n",
    "from scipy.stats import pearsonr\n",
    "%matplotlib inline"
   ]
  },
  {
   "cell_type": "code",
   "execution_count": 29,
   "metadata": {},
   "outputs": [
    {
     "data": {
      "text/html": [
       "<div>\n",
       "<table border=\"1\" class=\"dataframe\">\n",
       "  <thead>\n",
       "    <tr style=\"text-align: right;\">\n",
       "      <th></th>\n",
       "      <th>volid</th>\n",
       "      <th>dateused</th>\n",
       "      <th>pubdate</th>\n",
       "      <th>birthdate</th>\n",
       "      <th>firstpub</th>\n",
       "      <th>gender</th>\n",
       "      <th>nation</th>\n",
       "      <th>allwords</th>\n",
       "      <th>logistic</th>\n",
       "      <th>realclass</th>\n",
       "      <th>trainflag</th>\n",
       "      <th>trainsize</th>\n",
       "      <th>author</th>\n",
       "      <th>title</th>\n",
       "      <th>genretags</th>\n",
       "    </tr>\n",
       "  </thead>\n",
       "  <tbody>\n",
       "    <tr>\n",
       "      <th>0</th>\n",
       "      <td>pst.000018729719|Jody</td>\n",
       "      <td>1963</td>\n",
       "      <td>1963</td>\n",
       "      <td>0</td>\n",
       "      <td>1963</td>\n",
       "      <td>gender</td>\n",
       "      <td>NaN</td>\n",
       "      <td>35.782609</td>\n",
       "      <td>0.832789</td>\n",
       "      <td>1</td>\n",
       "      <td>1</td>\n",
       "      <td>Plath, Sylvia</td>\n",
       "      <td>The Bell Jar</td>\n",
       "      <td>f | lower</td>\n",
       "      <td>NaN</td>\n",
       "    </tr>\n",
       "    <tr>\n",
       "      <th>1</th>\n",
       "      <td>pst.000029131198|MademoiselleMaillard</td>\n",
       "      <td>1938</td>\n",
       "      <td>1938</td>\n",
       "      <td>0</td>\n",
       "      <td>1938</td>\n",
       "      <td>gender</td>\n",
       "      <td>NaN</td>\n",
       "      <td>29.000000</td>\n",
       "      <td>0.679223</td>\n",
       "      <td>1</td>\n",
       "      <td>1</td>\n",
       "      <td>Field, Rachel</td>\n",
       "      <td>All This and Heaven Too</td>\n",
       "      <td>f | lower</td>\n",
       "      <td>NaN</td>\n",
       "    </tr>\n",
       "    <tr>\n",
       "      <th>2</th>\n",
       "      <td>uc1.32106005120107|Mrs.Neale</td>\n",
       "      <td>1907</td>\n",
       "      <td>1907</td>\n",
       "      <td>0</td>\n",
       "      <td>1907</td>\n",
       "      <td>gender</td>\n",
       "      <td>NaN</td>\n",
       "      <td>13.500000</td>\n",
       "      <td>0.591460</td>\n",
       "      <td>1</td>\n",
       "      <td>1</td>\n",
       "      <td>Conrad, Joseph</td>\n",
       "      <td>The Secret Agent</td>\n",
       "      <td>f | lower</td>\n",
       "      <td>NaN</td>\n",
       "    </tr>\n",
       "    <tr>\n",
       "      <th>3</th>\n",
       "      <td>uc1.32106002105341|Billy</td>\n",
       "      <td>1930</td>\n",
       "      <td>1930</td>\n",
       "      <td>0</td>\n",
       "      <td>1930</td>\n",
       "      <td>gender</td>\n",
       "      <td>NaN</td>\n",
       "      <td>21.000000</td>\n",
       "      <td>0.175941</td>\n",
       "      <td>0</td>\n",
       "      <td>1</td>\n",
       "      <td>Faulkner, William</td>\n",
       "      <td>As I Lay Dying</td>\n",
       "      <td>lower | m</td>\n",
       "      <td>NaN</td>\n",
       "    </tr>\n",
       "    <tr>\n",
       "      <th>4</th>\n",
       "      <td>uc1.32106002105341|Eustace</td>\n",
       "      <td>1930</td>\n",
       "      <td>1930</td>\n",
       "      <td>0</td>\n",
       "      <td>1930</td>\n",
       "      <td>gender</td>\n",
       "      <td>NaN</td>\n",
       "      <td>14.333333</td>\n",
       "      <td>0.816572</td>\n",
       "      <td>0</td>\n",
       "      <td>1</td>\n",
       "      <td>Faulkner, William</td>\n",
       "      <td>As I Lay Dying</td>\n",
       "      <td>lower | m</td>\n",
       "      <td>NaN</td>\n",
       "    </tr>\n",
       "  </tbody>\n",
       "</table>\n",
       "</div>"
      ],
      "text/plain": [
       "                                   volid  dateused  pubdate  birthdate  \\\n",
       "0                  pst.000018729719|Jody      1963     1963          0   \n",
       "1  pst.000029131198|MademoiselleMaillard      1938     1938          0   \n",
       "2           uc1.32106005120107|Mrs.Neale      1907     1907          0   \n",
       "3               uc1.32106002105341|Billy      1930     1930          0   \n",
       "4             uc1.32106002105341|Eustace      1930     1930          0   \n",
       "\n",
       "   firstpub  gender  nation   allwords  logistic  realclass  trainflag  \\\n",
       "0      1963  gender     NaN  35.782609  0.832789          1          1   \n",
       "1      1938  gender     NaN  29.000000  0.679223          1          1   \n",
       "2      1907  gender     NaN  13.500000  0.591460          1          1   \n",
       "3      1930  gender     NaN  21.000000  0.175941          0          1   \n",
       "4      1930  gender     NaN  14.333333  0.816572          0          1   \n",
       "\n",
       "           trainsize                   author      title  genretags  \n",
       "0      Plath, Sylvia             The Bell Jar  f | lower        NaN  \n",
       "1      Field, Rachel  All This and Heaven Too  f | lower        NaN  \n",
       "2     Conrad, Joseph         The Secret Agent  f | lower        NaN  \n",
       "3  Faulkner, William           As I Lay Dying  lower | m        NaN  \n",
       "4  Faulkner, William           As I Lay Dying  lower | m        NaN  "
      ]
     },
     "execution_count": 29,
     "metadata": {},
     "output_type": "execute_result"
    }
   ],
   "source": [
    "charmeta = pd.read_csv('../models/newgendermodel.csv')\n",
    "charmeta.head()"
   ]
  },
  {
   "cell_type": "code",
   "execution_count": 30,
   "metadata": {},
   "outputs": [
    {
     "data": {
      "image/png": "[encoded data removed]",
      "text/plain": [
       "<matplotlib.figure.Figure at 0x123d0c4e0>"
      ]
     },
     "metadata": {},
     "output_type": "display_data"
    },
    {
     "name": "stdout",
     "output_type": "stream",
     "text": [
      "Pearson's R (-0.37394259110258399, 0.059850548669741849)\n"
     ]
    }
   ],
   "source": [
    "x = []\n",
    "y = []\n",
    "titles = []\n",
    "\n",
    "grouped = charmeta.groupby('author')\n",
    "for author, group in grouped:\n",
    "    date = np.mean(group.dateused)\n",
    "    upperarray = group.loc[group.realclass == 1, 'logistic']\n",
    "    upper = np.mean(upperarray[~np.isnan(upperarray)])\n",
    "    lowerarray = group.loc[group.realclass == 0, 'logistic']\n",
    "    lower = np.mean(lowerarray[~np.isnan(lowerarray)])\n",
    "    difference = upper - lower\n",
    "    if not np.isnan(difference):\n",
    "        x.append(date)\n",
    "        y.append(upper - lower)\n",
    "        titles.append((upper-lower, author))\n",
    "\n",
    "plt.scatter(x, y)\n",
    "z = np.polyfit(x, y, 1)\n",
    "p = np.poly1d(z)\n",
    "plt.plot(x,p(x),\"r--\")\n",
    "plt.show()\n",
    "print(\"Pearson's R\", pearsonr(x, y))  "
   ]
  },
  {
   "cell_type": "code",
   "execution_count": 31,
   "metadata": {},
   "outputs": [
    {
     "data": {
      "text/plain": [
       "[(-0.32023322896688894, 'The Fellowship of the Ring'),\n",
       " (-0.095376491943833408, 'False Dawn (The Forties)'),\n",
       " (-0.082817978332000108, 'Lucky Jim'),\n",
       " (-0.019140867474200074, 'Waverley'),\n",
       " (-0.014309998550089964, 'As I Lay Dying'),\n",
       " (-0.013660962697500056, 'Robert Falconer'),\n",
       " (0.0094190521073149736, 'The Bell Jar'),\n",
       " (0.0098907479929999931, 'Neuromancer'),\n",
       " (0.05313671105962503, 'A Game of Thrones'),\n",
       " (0.058807847925896994, 'Adam Bede'),\n",
       " (0.077762403899645949, 'Lady Anne Granard, or, Keeping up appearances'),\n",
       " (0.094310453214499934, 'The Picture of Dorian Gray'),\n",
       " (0.099035767006000086, 'Frankenstein'),\n",
       " (0.10855098080679987, 'All This and Heaven Too'),\n",
       " (0.13002659593239996, 'The Time Machine'),\n",
       " (0.14701042870266678, 'The Secret Agent'),\n",
       " (0.1494626293322, 'Thaddeus of Warsaw'),\n",
       " (0.15824425973627276, 'Mrs. Dalloway'),\n",
       " (0.15929397098300002, 'A Portrait of the Artist as a Young Man'),\n",
       " (0.20505268392250009, 'Nineteen-eighty Four'),\n",
       " (0.21784930807766667, 'The Stranger'),\n",
       " (0.23531337018275, 'Marcus Flaminius'),\n",
       " (0.28040565498600001, 'The Return of the Soldier'),\n",
       " (0.28067236168591669, 'The Great Gatsby'),\n",
       " (0.30250240070750001, 'The romance of the forest'),\n",
       " (0.32847906279400008, 'Things As They Are')]"
      ]
     },
     "execution_count": 31,
     "metadata": {},
     "output_type": "execute_result"
    }
   ],
   "source": [
    "titles.sort()\n",
    "titles"
   ]
  },
  {
   "cell_type": "code",
   "execution_count": null,
   "metadata": {},
   "outputs": [],
   "source": []
  }
 ],
 "metadata": {
  "kernelspec": {
   "display_name": "Python 3",
   "language": "python",
   "name": "python3"
  },
  "language_info": {
   "codemirror_mode": {
    "name": "ipython",
    "version": 3
   },
   "file_extension": ".py",
   "mimetype": "text/x-python",
   "name": "python",
   "nbconvert_exporter": "python",
   "pygments_lexer": "ipython3",
   "version": "3.5.2"
  }
 },
 "nbformat": 4,
 "nbformat_minor": 1
}
